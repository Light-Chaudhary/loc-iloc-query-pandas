{
 "cells": [
  {
   "cell_type": "code",
   "execution_count": 17,
   "id": "dcba4ad2-ed16-46c2-8fa4-f024239e5cc3",
   "metadata": {},
   "outputs": [
    {
     "name": "stdout",
     "output_type": "stream",
     "text": [
      "      Name  Math  Science  English Grade  Passed\n",
      "0    Alice    85       89       92     A    True\n",
      "1      Bob    92       94       88     A    True\n",
      "2  Charlie    78       75       82     B    True\n",
      "3    David    90       91       85     A    True\n",
      "4      Eva    88       87       90     B    True\n",
      "    Name  Science\n",
      "0  Alice       89\n",
      "1    Bob       94\n",
      "3  David       91\n",
      "Math       78\n",
      "Science    75\n",
      "English    82\n",
      "Name: 2, dtype: object\n",
      "90\n",
      "92\n"
     ]
    },
    {
     "data": {
      "text/html": [
       "<div>\n",
       "<style scoped>\n",
       "    .dataframe tbody tr th:only-of-type {\n",
       "        vertical-align: middle;\n",
       "    }\n",
       "\n",
       "    .dataframe tbody tr th {\n",
       "        vertical-align: top;\n",
       "    }\n",
       "\n",
       "    .dataframe thead th {\n",
       "        text-align: right;\n",
       "    }\n",
       "</style>\n",
       "<table border=\"1\" class=\"dataframe\">\n",
       "  <thead>\n",
       "    <tr style=\"text-align: right;\">\n",
       "      <th></th>\n",
       "      <th>Name</th>\n",
       "      <th>Math</th>\n",
       "      <th>Science</th>\n",
       "      <th>English</th>\n",
       "      <th>Grade</th>\n",
       "      <th>Passed</th>\n",
       "    </tr>\n",
       "  </thead>\n",
       "  <tbody>\n",
       "    <tr>\n",
       "      <th>1</th>\n",
       "      <td>Bob</td>\n",
       "      <td>92</td>\n",
       "      <td>94</td>\n",
       "      <td>88</td>\n",
       "      <td>A</td>\n",
       "      <td>True</td>\n",
       "    </tr>\n",
       "    <tr>\n",
       "      <th>3</th>\n",
       "      <td>David</td>\n",
       "      <td>90</td>\n",
       "      <td>91</td>\n",
       "      <td>85</td>\n",
       "      <td>A</td>\n",
       "      <td>True</td>\n",
       "    </tr>\n",
       "    <tr>\n",
       "      <th>4</th>\n",
       "      <td>Eva</td>\n",
       "      <td>88</td>\n",
       "      <td>87</td>\n",
       "      <td>90</td>\n",
       "      <td>B</td>\n",
       "      <td>True</td>\n",
       "    </tr>\n",
       "  </tbody>\n",
       "</table>\n",
       "</div>"
      ],
      "text/plain": [
       "    Name  Math  Science  English Grade  Passed\n",
       "1    Bob    92       94       88     A    True\n",
       "3  David    90       91       85     A    True\n",
       "4    Eva    88       87       90     B    True"
      ]
     },
     "execution_count": 17,
     "metadata": {},
     "output_type": "execute_result"
    }
   ],
   "source": [
    "import pandas as pd\n",
    "\n",
    "data = {\n",
    "    'Name': ['Alice', 'Bob', 'Charlie', 'David', 'Eva'],\n",
    "    'Math': [85, 92, 78, 90, 88],\n",
    "    'Science': [89, 94, 75, 91, 87],\n",
    "    'English': [92, 88, 82, 85, 90],\n",
    "    'Grade': ['A', 'A', 'B', 'A', 'B'],\n",
    "    'Passed': [True, True, True, True, True]\n",
    "}\n",
    "\n",
    "df = pd.DataFrame(data)\n",
    "print(df)\n",
    "print(df.loc[df[\"Grade\"] == \"A\",[\"Name\", \"Science\"]])\n",
    "print(df.iloc[2, [1,2,3]])\n",
    "print(df.at[4, \"English\"])\n",
    "print(df.iat[1,1])\n",
    "df.query('Math > 85 and Passed == True')"
   ]
  }
 ],
 "metadata": {
  "kernelspec": {
   "display_name": "Python 3 (ipykernel)",
   "language": "python",
   "name": "python3"
  },
  "language_info": {
   "codemirror_mode": {
    "name": "ipython",
    "version": 3
   },
   "file_extension": ".py",
   "mimetype": "text/x-python",
   "name": "python",
   "nbconvert_exporter": "python",
   "pygments_lexer": "ipython3",
   "version": "3.13.5"
  }
 },
 "nbformat": 4,
 "nbformat_minor": 5
}
